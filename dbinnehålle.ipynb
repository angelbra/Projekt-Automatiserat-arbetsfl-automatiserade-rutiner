{
 "cells": [
  {
   "cell_type": "markdown",
   "id": "f70b087e",
   "metadata": {},
   "source": [
    "## Customer "
   ]
  },
  {
   "cell_type": "markdown",
   "id": "fce66c74",
   "metadata": {},
   "source": [
    "| Kolumn       | Vad det betyder                  |\n",
    "| ------------ | -------------------------------- |\n",
    "| Customer     | Kundens namn                     |\n",
    "| Address      | Kundens adress                   |\n",
    "| Phone        | Kundens telefonnummer            |\n",
    "| Personnummer | Kundens personnummer (ID-nummer) |\n",
    "| BankAccount  | Kundens bankkonto                |\n"
   ]
  },
  {
   "cell_type": "markdown",
   "id": "b40297a3",
   "metadata": {},
   "source": [
    "## Transactions"
   ]
  },
  {
   "cell_type": "markdown",
   "id": "6ce68e85",
   "metadata": {},
   "source": [
    "| Kolumn       | Vad det betyder                  |\n",
    "| ------------ | -------------------------------- |\n",
    "| Customer     | Kundens namn                     |\n",
    "| Address      | Kundens adress                   |\n",
    "| Phone        | Kundens telefonnummer            |\n",
    "| Personnummer | Kundens personnummer (ID-nummer) |\n",
    "| BankAccount  | Kundens bankkonto                |\n"
   ]
  }
 ],
 "metadata": {
  "language_info": {
   "name": "python"
  }
 },
 "nbformat": 4,
 "nbformat_minor": 5
}
