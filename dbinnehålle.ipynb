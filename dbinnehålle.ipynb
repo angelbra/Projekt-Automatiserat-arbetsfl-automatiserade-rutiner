{
 "cells": [
  {
   "cell_type": "markdown",
   "id": "3bdde296",
   "metadata": {},
   "source": [
    "## Uppgift 4: Workflow Automation & Orchestration.\n",
    "\n",
    "* automatiserat arbetsflöde med Prefect : ett workflow-verktyg för data pipelines: simulerad bankmiljö\n",
    "\n",
    "#################################\n",
    "\n",
    "Automatiskt pipeline for:\n",
    "\n",
    "- Data validation \n",
    "\n",
    "- DB loading\n",
    "\n",
    "- Transaction processing\n",
    "\n",
    "- Rapportgenerering\n",
    "\n",
    "- säkerställa error handling and rollback support\n",
    "\n",
    "# Syfte\n",
    "\n",
    "* inläsning av rådata till datavalidering, datalagring och rapportgenerering på ett tillförlitligt, upprepningsbart och spårbart sätt.\n",
    "\n",
    "# Datakällor\n",
    " \n",
    "* CSV-filer: laddas upp till projektmappen.\n"
   ]
  },
  {
   "cell_type": "markdown",
   "id": "f70b087e",
   "metadata": {},
   "source": [
    "## Customer "
   ]
  },
  {
   "cell_type": "markdown",
   "id": "fce66c74",
   "metadata": {},
   "source": [
    "| Kolumn       | Vad det betyder                  |\n",
    "| ------------ | -------------------------------- |\n",
    "| Customer     | Kundens namn                     |\n",
    "| Address      | Kundens adress                   |\n",
    "| Phone        | Kundens telefonnummer            |\n",
    "| Personnummer | Kundens personnummer (ID-nummer) |\n",
    "| BankAccount  | Kundens bankkonto                |\n"
   ]
  },
  {
   "cell_type": "markdown",
   "id": "b40297a3",
   "metadata": {},
   "source": [
    "## Transactions"
   ]
  },
  {
   "cell_type": "markdown",
   "id": "6ce68e85",
   "metadata": {},
   "source": [
    "| Kolumn       | Vad det betyder                  |\n",
    "| ------------ | -------------------------------- |\n",
    "| Customer     | Kundens namn                     |\n",
    "| Address      | Kundens adress                   |\n",
    "| Phone        | Kundens telefonnummer            |\n",
    "| Personnummer | Kundens personnummer (ID-nummer) |\n",
    "| BankAccount  | Kundens bankkonto                |\n"
   ]
  },
  {
   "cell_type": "markdown",
   "id": "1478cec9",
   "metadata": {},
   "source": [
    "# Process \n",
    "\n",
    "- Python som huvudspråk python:3.11-slim\n",
    "- Pandas\n",
    "- Databas (SQLite)\n",
    "- Prefect\n",
    "\n",
    "\n",
    "## Vi lyckades skapa ett komplett flöde\n",
    "\n",
    "i Prefect som automatiskt kör alla dessa steg i rätt ordning. Workflowen innehåller tasks för att:\n",
    "\n",
    "- Ladda upp filer\n",
    "\n",
    "- Validera\n",
    "\n",
    "- Skriva till databas\n",
    "\n",
    "- Skapa rapport\n",
    "\n",
    "- Logga och visa resultat\n",
    "\n",
    "\n"
   ]
  }
 ],
 "metadata": {
  "language_info": {
   "name": "python"
  }
 },
 "nbformat": 4,
 "nbformat_minor": 5
}
