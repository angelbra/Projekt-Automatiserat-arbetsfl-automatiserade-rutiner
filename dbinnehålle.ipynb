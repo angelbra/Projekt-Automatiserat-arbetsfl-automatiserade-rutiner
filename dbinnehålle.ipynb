{
 "cells": [
  {
   "cell_type": "markdown",
   "id": "3bdde296",
   "metadata": {},
   "source": [
    "## Uppgift 4: Workflow Automation & Orchestration.\n",
    "\n",
    "* automatiserat arbetsflöde med Prefect : ett workflow-verktyg för data pipelines: simulerad bankmiljö\n",
    "\n",
    "#################################\n",
    "\n",
    "Automatiskt pipeline for:\n",
    "\n",
    "- Data validation \n",
    "\n",
    "- DB loading\n",
    "\n",
    "- Transaction processing\n",
    "\n",
    "- Rapportgenerering\n",
    "\n",
    "- säkerställa error handling and rollback support\n",
    "\n",
    "# Syfte\n",
    "\n",
    "* inläsning av rådata till datavalidering, datalagring och rapportgenerering på ett tillförlitligt, upprepningsbart och spårbart sätt.\n",
    "\n",
    "# Datakällor\n",
    " \n",
    "* CSV-filer: laddas upp till projektmappen.\n"
   ]
  },
  {
   "cell_type": "markdown",
   "id": "f70b087e",
   "metadata": {},
   "source": [
    "## Customer "
   ]
  },
  {
   "cell_type": "markdown",
   "id": "fce66c74",
   "metadata": {},
   "source": [
    "| Kolumn       | Vad det betyder                  |\n",
    "| ------------ | -------------------------------- |\n",
    "| Customer     | Kundens namn                     |\n",
    "| Address      | Kundens adress                   |\n",
    "| Phone        | Kundens telefonnummer            |\n",
    "| Personnummer | Kundens personnummer (ID-nummer) |\n",
    "| BankAccount  | Kundens bankkonto                |\n"
   ]
  },
  {
   "cell_type": "markdown",
   "id": "b40297a3",
   "metadata": {},
   "source": [
    "## Transactions"
   ]
  },
  {
   "cell_type": "markdown",
   "id": "6ce68e85",
   "metadata": {},
   "source": [
    "| Kolumn       | Vad det betyder                  |\n",
    "| ------------ | -------------------------------- |\n",
    "| Customer     | Kundens namn                     |\n",
    "| Address      | Kundens adress                   |\n",
    "| Phone        | Kundens telefonnummer            |\n",
    "| Personnummer | Kundens personnummer (ID-nummer) |\n",
    "| BankAccount  | Kundens bankkonto                |\n"
   ]
  },
  {
   "cell_type": "markdown",
   "id": "1478cec9",
   "metadata": {},
   "source": [
    "# Process \n",
    "\n",
    "- Python som huvudspråk python:3.11-slim\n",
    "- Pandas\n",
    "- Databas (SQLite)\n",
    "- Prefect\n",
    "\n",
    "\n",
    "## Vi lyckades skapa ett komplett flöde\n",
    "\n",
    "i Prefect som automatiskt kör alla dessa steg i rätt ordning. Workflowen innehåller tasks för att:\n",
    "\n",
    "- Ladda upp filer\n",
    "\n",
    "- Validera\n",
    "\n",
    "- Skriva till databas\n",
    "\n",
    "- Skapa rapport\n",
    "\n",
    "- Logga och visa resultat\n",
    "\n",
    "\n"
   ]
  },
  {
   "cell_type": "markdown",
   "id": "6eaa0073",
   "metadata": {},
   "source": [
    "## Installation och körning\n",
    "\n",
    "1. Skapa och aktivera virtuell miljö:\n",
    "\n",
    "* Windows: python \n",
    "\n",
    "-m venv venv \n",
    "\n",
    ".\\venv\\Scripts\\activate\n",
    "\n",
    "* Linux/macOS: \n",
    "\n",
    "python3 -m venv venv\n",
    "\n",
    "source venv/bin/activate\n",
    "\n",
    "2. Installera beroenden : nödvändiga paketen, \n",
    "\n",
    "* kör följande kommando i terminalen:\n",
    "\n",
    "pip install -r requirements.txt\n",
    "\n",
    "* Kör workflow: \n",
    "\n",
    "python bank_workflow_prefect.py"
   ]
  }
 ],
 "metadata": {
  "language_info": {
   "name": "python"
  }
 },
 "nbformat": 4,
 "nbformat_minor": 5
}
